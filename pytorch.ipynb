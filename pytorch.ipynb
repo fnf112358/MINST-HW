{
 "cells": [
  {
   "cell_type": "markdown",
   "metadata": {},
   "source": [
    "# Pytorch Tutorial"
   ]
  },
  {
   "cell_type": "markdown",
   "metadata": {},
   "source": [
    "Pytorch is a popular deep learning framework and it's easy to get started."
   ]
  },
  {
   "cell_type": "code",
   "execution_count": 1,
   "metadata": {},
   "outputs": [],
   "source": [
    "import torch\n",
    "import torch.nn as nn\n",
    "import torch.utils.data as data\n",
    "import torchvision\n",
    "import torchvision.transforms as transforms\n",
    "from tqdm import tqdm\n",
    "import time\n",
    "import torch.nn.functional as F\n",
    "from torch.autograd import Variable\n",
    "\n",
    "BATCH_SIZE = 128\n",
    "NUM_EPOCHS = 10"
   ]
  },
  {
   "cell_type": "markdown",
   "metadata": {},
   "source": [
    "First, we read the mnist data, preprocess them and encapsulate them into dataloader form."
   ]
  },
  {
   "cell_type": "code",
   "execution_count": 2,
   "metadata": {},
   "outputs": [],
   "source": [
    "# preprocessing\n",
    "normalize = transforms.Normalize(mean=[.5], std=[.5])\n",
    "transform = transforms.Compose([transforms.ToTensor(), normalize])\n",
    "\n",
    "# download and load the data\n",
    "train_dataset = torchvision.datasets.MNIST(root='./mnist/', train=True, transform=transform, download=True)\n",
    "test_dataset = torchvision.datasets.MNIST(root='./mnist/', train=False, transform=transform, download=False)\n",
    "\n",
    "# encapsulate them into dataloader form\n",
    "train_loader = data.DataLoader(train_dataset, batch_size=BATCH_SIZE, shuffle=True, drop_last=True)\n",
    "test_loader = data.DataLoader(test_dataset, batch_size=BATCH_SIZE, shuffle=False, drop_last=True)"
   ]
  },
  {
   "cell_type": "markdown",
   "metadata": {},
   "source": [
    "Then, we define the model, object function and optimizer that we use to classify."
   ]
  },
  {
   "cell_type": "code",
   "execution_count": 3,
   "metadata": {},
   "outputs": [],
   "source": [
    "class SimpleNet(nn.Module):\n",
    "# TODO:define model\n",
    "    def __init__(self, in_channels = 1, num_classes = 10):\n",
    "        super(SimpleNet, self).__init__()\n",
    "        self.conv1 = nn.Conv2d(in_channels = 1,out_channels = 8,kernel_size = (3,3),stride=(1,1),padding=(1,1))\n",
    "        self.pool = nn.MaxPool2d(kernel_size = (2,2),stride = (2,2))\n",
    "        self.conv2 = nn.Conv2d(in_channels = 8,out_channels = 16,kernel_size = (3,3),stride = (1,1),padding = (1,1)) \n",
    "        self.conv3 = nn.Conv2d(in_channels = 16,out_channels = 32,kernel_size = (3,3),stride = (1,1),padding = (1,1))\n",
    "        self.fc1 = nn.Linear(32*3*3,64)\n",
    "        self.dropout = nn.Dropout(p = 0.25)\n",
    "        self.fc2 = nn.Linear(64,32)\n",
    "        self.fc3 = nn.Linear(32,num_classes)\n",
    "\n",
    "    def forward(self, x):\n",
    "        x = F.relu(self.conv1(x))\n",
    "        x = self.pool(x)\n",
    "        x = F.relu(self.conv2(x))\n",
    "        x = self.pool(x)\n",
    "        x = F.relu(self.conv3(x))\n",
    "        x = self.pool(x)\n",
    "        x = x.reshape(x.shape[0], -1)\n",
    "        x = F.relu(self.fc1(x))\n",
    "        x = self.dropout(x)\n",
    "        x = F.relu(self.fc2(x))\n",
    "        x = self.dropout(x)\n",
    "        x = self.fc3(x)\n",
    "        return x\n",
    "      \n",
    "model = SimpleNet()\n",
    "\n",
    "# TODO:define loss function and optimiter\n",
    "criterion = nn.CrossEntropyLoss()\n",
    "optimizer = torch.optim.Adam(model.parameters())"
   ]
  },
  {
   "cell_type": "markdown",
   "metadata": {},
   "source": [
    "Next, we can start to train and evaluate!"
   ]
  },
  {
   "cell_type": "code",
   "execution_count": 4,
   "metadata": {
    "scrolled": false
   },
   "outputs": [
    {
     "name": "stderr",
     "output_type": "stream",
     "text": [
      "100%|██████████| 468/468 [00:56<00:00,  8.24it/s]\n",
      "100%|██████████| 468/468 [01:00<00:00,  7.79it/s]\n",
      "100%|██████████| 468/468 [01:03<00:00,  7.42it/s]\n",
      "100%|██████████| 468/468 [01:05<00:00,  7.10it/s]\n",
      "100%|██████████| 468/468 [01:05<00:00,  7.12it/s]\n",
      "100%|██████████| 468/468 [01:06<00:00,  7.00it/s]\n",
      "100%|██████████| 468/468 [01:06<00:00,  7.03it/s]\n",
      "100%|██████████| 468/468 [01:07<00:00,  6.97it/s]\n",
      "100%|██████████| 468/468 [01:07<00:00,  6.94it/s]\n",
      "100%|██████████| 468/468 [01:06<00:00,  7.00it/s]\n"
     ]
    }
   ],
   "source": [
    "# train and evaluate\n",
    "for epoch in range(NUM_EPOCHS):\n",
    "    for images, labels in tqdm(train_loader):\n",
    "        # TODO:forward + backward + optimize   \n",
    "        \n",
    "        scores = model(images)\n",
    "        loss = criterion(scores,labels)\n",
    "        optimizer.zero_grad()\n",
    "        loss.backward() \n",
    "        optimizer.step()"
   ]
  },
  {
   "cell_type": "markdown",
   "metadata": {},
   "source": [
    "#### Q5:\n",
    "Please print the training and testing accuracy."
   ]
  },
  {
   "cell_type": "code",
   "execution_count": 5,
   "metadata": {},
   "outputs": [
    {
     "name": "stdout",
     "output_type": "stream",
     "text": [
      "Training accuracy: 98.48%\n",
      "Testing accuracy: 98.47%\n"
     ]
    }
   ],
   "source": [
    "correct = 0\n",
    "total = 0 \n",
    "\n",
    "for images, labels in train_loader:            \n",
    "    test = Variable(images.view(128,1,28,28))\n",
    "    outputs = model(test)\n",
    "    predicted = torch.max(outputs.data, 1)[1]\n",
    "    total += len(labels)\n",
    "    correct += (predicted == labels).sum()       \n",
    "\n",
    "train_accuracy = correct / float(total)\n",
    "print('Training accuracy: %0.2f%%' % (train_accuracy*100))\n",
    "\n",
    "correct = 0\n",
    "total = 0 \n",
    "\n",
    "for images, labels in test_loader:            \n",
    "    test = Variable(images.view(128,1,28,28))\n",
    "    outputs = model(test)\n",
    "    predicted = torch.max(outputs.data, 1)[1]\n",
    "    total += len(labels)\n",
    "    correct += (predicted == labels).sum()       \n",
    "\n",
    "test_accuracy = correct / float(total)\n",
    "print('Testing accuracy: %0.2f%%' % (test_accuracy*100))"
   ]
  }
 ],
 "metadata": {
  "kernelspec": {
   "display_name": "Python 3",
   "language": "python",
   "name": "python3"
  },
  "language_info": {
   "codemirror_mode": {
    "name": "ipython",
    "version": 3
   },
   "file_extension": ".py",
   "mimetype": "text/x-python",
   "name": "python",
   "nbconvert_exporter": "python",
   "pygments_lexer": "ipython3",
   "version": "3.6.10"
  }
 },
 "nbformat": 4,
 "nbformat_minor": 2
}
